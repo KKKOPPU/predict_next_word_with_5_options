{
 "cells": [
  {
   "cell_type": "markdown",
   "metadata": {},
   "source": [
    "Importing libraries"
   ]
  },
  {
   "cell_type": "code",
   "execution_count": 7,
   "metadata": {},
   "outputs": [],
   "source": [
    "import numpy as np\n",
    "import pandas as pd\n",
    "import matplotlib.pyplot as plt\n",
    "import pickle\n",
    "import heapq\n",
    "import re\n",
    "\n",
    "from nltk.tokenize import RegexpTokenizer\n",
    "from keras.models import Sequential, load_model\n",
    "from keras.layers import LSTM\n",
    "from keras.layers.core import Dense, Activation\n",
    "\n",
    "from tqdm import tnrange, tqdm_notebook\n",
    "import tensorflow as tf\n",
    "import tensorflow_addons as tfa\n",
    "\n",
    "from time import sleep\n",
    "import warnings\n",
    "warnings.filterwarnings('ignore')"
   ]
  },
  {
   "cell_type": "markdown",
   "metadata": {},
   "source": [
    "Reading data"
   ]
  },
  {
   "cell_type": "code",
   "execution_count": 3,
   "metadata": {},
   "outputs": [],
   "source": [
    "file_path = 'Predict_next_word.txt'"
   ]
  },
  {
   "cell_type": "code",
   "execution_count": 4,
   "metadata": {},
   "outputs": [],
   "source": [
    "with open(file_path,'r',encoding='utf-8') as f:\n",
    "    file_data = f.readlines()"
   ]
  },
  {
   "cell_type": "code",
   "execution_count": 5,
   "metadata": {},
   "outputs": [],
   "source": [
    "file_str = \" \".join(file_data)"
   ]
  },
  {
   "cell_type": "code",
   "execution_count": 8,
   "metadata": {},
   "outputs": [],
   "source": [
    "file_str = re.sub(\"[^A-Za-z\" \"]+\",\" \",file_str).lower()"
   ]
  },
  {
   "cell_type": "code",
   "execution_count": 9,
   "metadata": {},
   "outputs": [],
   "source": [
    "tokenizer = RegexpTokenizer(r'[\\w]+')\n",
    "words = tokenizer.tokenize(file_str)"
   ]
  },
  {
   "cell_type": "code",
   "execution_count": 10,
   "metadata": {},
   "outputs": [
    {
     "data": {
      "text/plain": [
       "['project',\n",
       " 'gutenberg',\n",
       " 's',\n",
       " 'the',\n",
       " 'adventures',\n",
       " 'of',\n",
       " 'sherlock',\n",
       " 'holmes',\n",
       " 'by',\n",
       " 'arthur',\n",
       " 'conan',\n",
       " 'doyle',\n",
       " 'this',\n",
       " 'ebook',\n",
       " 'is',\n",
       " 'for',\n",
       " 'the',\n",
       " 'use',\n",
       " 'of',\n",
       " 'anyone',\n",
       " 'anywhere',\n",
       " 'at',\n",
       " 'no',\n",
       " 'cost',\n",
       " 'and',\n",
       " 'with',\n",
       " 'almost',\n",
       " 'no',\n",
       " 'restrictions',\n",
       " 'whatsoever',\n",
       " 'you',\n",
       " 'may',\n",
       " 'copy',\n",
       " 'it',\n",
       " 'give',\n",
       " 'it',\n",
       " 'away',\n",
       " 'or',\n",
       " 're',\n",
       " 'use',\n",
       " 'it',\n",
       " 'under',\n",
       " 'the',\n",
       " 'terms',\n",
       " 'of',\n",
       " 'the',\n",
       " 'project',\n",
       " 'gutenberg',\n",
       " 'license',\n",
       " 'included',\n",
       " 'with',\n",
       " 'this',\n",
       " 'ebook',\n",
       " 'or',\n",
       " 'online',\n",
       " 'at',\n",
       " 'www',\n",
       " 'gutenberg',\n",
       " 'net',\n",
       " 'title',\n",
       " 'the',\n",
       " 'adventures',\n",
       " 'of',\n",
       " 'sherlock',\n",
       " 'holmes',\n",
       " 'author',\n",
       " 'arthur',\n",
       " 'conan',\n",
       " 'doyle',\n",
       " 'release',\n",
       " 'date',\n",
       " 'november',\n",
       " 'ebook',\n",
       " 'last',\n",
       " 'updated',\n",
       " 'may',\n",
       " 'language',\n",
       " 'english',\n",
       " 'character',\n",
       " 'set',\n",
       " 'encoding',\n",
       " 'utf',\n",
       " 'start',\n",
       " 'of',\n",
       " 'this',\n",
       " 'project',\n",
       " 'gutenberg',\n",
       " 'ebook',\n",
       " 'the',\n",
       " 'adventures',\n",
       " 'of',\n",
       " 'sherlock',\n",
       " 'holmes',\n",
       " 'produced',\n",
       " 'by',\n",
       " 'an',\n",
       " 'anonymous',\n",
       " 'project',\n",
       " 'gutenberg',\n",
       " 'volunteer',\n",
       " 'and',\n",
       " 'jose',\n",
       " 'menendez',\n",
       " 'cover',\n",
       " 'the',\n",
       " 'adventures',\n",
       " 'of',\n",
       " 'sherlock',\n",
       " 'holmes',\n",
       " 'by',\n",
       " 'arthur',\n",
       " 'conan',\n",
       " 'doyle',\n",
       " 'contents',\n",
       " 'i',\n",
       " 'a',\n",
       " 'scandal',\n",
       " 'in',\n",
       " 'bohemia',\n",
       " 'ii',\n",
       " 'the',\n",
       " 'red',\n",
       " 'headed',\n",
       " 'league',\n",
       " 'iii',\n",
       " 'a',\n",
       " 'case',\n",
       " 'of',\n",
       " 'identity',\n",
       " 'iv',\n",
       " 'the',\n",
       " 'boscombe',\n",
       " 'valley',\n",
       " 'mystery',\n",
       " 'v',\n",
       " 'the',\n",
       " 'five',\n",
       " 'orange',\n",
       " 'pips',\n",
       " 'vi',\n",
       " 'the',\n",
       " 'man',\n",
       " 'with',\n",
       " 'the',\n",
       " 'twisted',\n",
       " 'lip',\n",
       " 'vii',\n",
       " 'the',\n",
       " 'adventure',\n",
       " 'of',\n",
       " 'the',\n",
       " 'blue',\n",
       " 'carbuncle',\n",
       " 'viii',\n",
       " 'the',\n",
       " 'adventure',\n",
       " 'of',\n",
       " 'the',\n",
       " 'speckled',\n",
       " 'band',\n",
       " 'ix',\n",
       " 'the',\n",
       " 'adventure',\n",
       " 'of',\n",
       " 'the',\n",
       " 'engineer',\n",
       " 's',\n",
       " 'thumb',\n",
       " 'x',\n",
       " 'the',\n",
       " 'adventure',\n",
       " 'of',\n",
       " 'the',\n",
       " 'noble',\n",
       " 'bachelor',\n",
       " 'xi',\n",
       " 'the',\n",
       " 'adventure',\n",
       " 'of',\n",
       " 'the',\n",
       " 'beryl',\n",
       " 'coronet',\n",
       " 'xii',\n",
       " 'the',\n",
       " 'adventure',\n",
       " 'of',\n",
       " 'the',\n",
       " 'copper',\n",
       " 'beeches',\n",
       " 'i',\n",
       " 'a',\n",
       " 'scandal',\n",
       " 'in',\n",
       " 'bohemia',\n",
       " 'i',\n",
       " 'to',\n",
       " 'sherlock',\n",
       " 'holmes',\n",
       " 'she',\n",
       " 'is',\n",
       " 'always',\n",
       " 'the',\n",
       " 'woman',\n",
       " 'i',\n",
       " 'have',\n",
       " 'seldom',\n",
       " 'heard',\n",
       " 'him',\n",
       " 'mention',\n",
       " 'her',\n",
       " 'under',\n",
       " 'any',\n",
       " 'other',\n",
       " 'name',\n",
       " 'in',\n",
       " 'his',\n",
       " 'eyes',\n",
       " 'she',\n",
       " 'eclipses',\n",
       " 'and',\n",
       " 'predominates',\n",
       " 'the',\n",
       " 'whole',\n",
       " 'of',\n",
       " 'her',\n",
       " 'sex',\n",
       " 'it',\n",
       " 'was',\n",
       " 'not',\n",
       " 'that',\n",
       " 'he',\n",
       " 'felt',\n",
       " 'any',\n",
       " 'emotion',\n",
       " 'akin',\n",
       " 'to',\n",
       " 'love',\n",
       " 'for',\n",
       " 'irene',\n",
       " 'adler',\n",
       " 'all',\n",
       " 'emotions',\n",
       " 'and',\n",
       " 'that',\n",
       " 'one',\n",
       " 'particularly',\n",
       " 'were',\n",
       " 'abhorrent',\n",
       " 'to',\n",
       " 'his',\n",
       " 'cold',\n",
       " 'precise',\n",
       " 'but',\n",
       " 'admirably',\n",
       " 'balanced',\n",
       " 'mind',\n",
       " 'he',\n",
       " 'was',\n",
       " 'i',\n",
       " 'take',\n",
       " 'it',\n",
       " 'the',\n",
       " 'most',\n",
       " 'perfect',\n",
       " 'reasoning',\n",
       " 'and',\n",
       " 'observing',\n",
       " 'machine',\n",
       " 'that',\n",
       " 'the',\n",
       " 'world',\n",
       " 'has',\n",
       " 'seen',\n",
       " 'but',\n",
       " 'as',\n",
       " 'a',\n",
       " 'lover',\n",
       " 'he',\n",
       " 'would',\n",
       " 'have',\n",
       " 'placed',\n",
       " 'himself',\n",
       " 'in',\n",
       " 'a',\n",
       " 'false',\n",
       " 'position',\n",
       " 'he',\n",
       " 'never',\n",
       " 'spoke',\n",
       " 'of',\n",
       " 'the',\n",
       " 'softer',\n",
       " 'passions',\n",
       " 'save',\n",
       " 'with',\n",
       " 'a',\n",
       " 'gibe',\n",
       " 'and',\n",
       " 'a',\n",
       " 'sneer',\n",
       " 'they',\n",
       " 'were',\n",
       " 'admirable',\n",
       " 'things',\n",
       " 'for',\n",
       " 'the',\n",
       " 'observer',\n",
       " 'excellent',\n",
       " 'for',\n",
       " 'drawing',\n",
       " 'the',\n",
       " 'veil',\n",
       " 'from',\n",
       " 'men',\n",
       " 's',\n",
       " 'motives',\n",
       " 'and',\n",
       " 'actions',\n",
       " 'but',\n",
       " 'for',\n",
       " 'the',\n",
       " 'trained',\n",
       " 'reasoner',\n",
       " 'to',\n",
       " 'admit',\n",
       " 'such',\n",
       " 'intrusions',\n",
       " 'into',\n",
       " 'his',\n",
       " 'own',\n",
       " 'delicate',\n",
       " 'and',\n",
       " 'finely',\n",
       " 'adjusted',\n",
       " 'temperament',\n",
       " 'was',\n",
       " 'to',\n",
       " 'introduce',\n",
       " 'a',\n",
       " 'distracting',\n",
       " 'factor',\n",
       " 'which',\n",
       " 'might',\n",
       " 'throw',\n",
       " 'a',\n",
       " 'doubt',\n",
       " 'upon',\n",
       " 'all',\n",
       " 'his',\n",
       " 'mental',\n",
       " 'results',\n",
       " 'grit',\n",
       " 'in',\n",
       " 'a',\n",
       " 'sensitive',\n",
       " 'instrument',\n",
       " 'or',\n",
       " 'a',\n",
       " 'crack',\n",
       " 'in',\n",
       " 'one',\n",
       " 'of',\n",
       " 'his',\n",
       " 'own',\n",
       " 'high',\n",
       " 'power',\n",
       " 'lenses',\n",
       " 'would',\n",
       " 'not',\n",
       " 'be',\n",
       " 'more',\n",
       " 'disturbing',\n",
       " 'than',\n",
       " 'a',\n",
       " 'strong',\n",
       " 'emotion',\n",
       " 'in',\n",
       " 'a',\n",
       " 'nature',\n",
       " 'such',\n",
       " 'as',\n",
       " 'his',\n",
       " 'and',\n",
       " 'yet',\n",
       " 'there',\n",
       " 'was',\n",
       " 'but',\n",
       " 'one',\n",
       " 'woman',\n",
       " 'to',\n",
       " 'him',\n",
       " 'and',\n",
       " 'that',\n",
       " 'woman',\n",
       " 'was',\n",
       " 'the',\n",
       " 'late',\n",
       " 'irene',\n",
       " 'adler',\n",
       " 'of',\n",
       " 'dubious',\n",
       " 'and',\n",
       " 'questionable',\n",
       " 'memory',\n",
       " 'i',\n",
       " 'had',\n",
       " 'seen',\n",
       " 'little',\n",
       " 'of',\n",
       " 'holmes',\n",
       " 'lately',\n",
       " 'my',\n",
       " 'marriage',\n",
       " 'had',\n",
       " 'drifted',\n",
       " 'us',\n",
       " 'away',\n",
       " 'from',\n",
       " 'each',\n",
       " 'other',\n",
       " 'my',\n",
       " 'own',\n",
       " 'complete',\n",
       " 'happiness',\n",
       " 'and',\n",
       " 'the',\n",
       " 'home',\n",
       " 'centred',\n",
       " 'interests',\n",
       " 'which',\n",
       " 'rise',\n",
       " 'up',\n",
       " 'around',\n",
       " 'the',\n",
       " 'man',\n",
       " 'who',\n",
       " 'first',\n",
       " 'finds',\n",
       " 'himself',\n",
       " 'master',\n",
       " 'of',\n",
       " 'his',\n",
       " 'own',\n",
       " 'establishment',\n",
       " 'were',\n",
       " 'sufficient',\n",
       " 'to',\n",
       " 'absorb',\n",
       " 'all',\n",
       " 'my',\n",
       " 'attention',\n",
       " 'while',\n",
       " 'holmes',\n",
       " 'who',\n",
       " 'loathed',\n",
       " 'every',\n",
       " 'form',\n",
       " 'of',\n",
       " 'society',\n",
       " 'with',\n",
       " 'his',\n",
       " 'whole',\n",
       " 'bohemian',\n",
       " 'soul',\n",
       " 'remained',\n",
       " 'in',\n",
       " 'our',\n",
       " 'lodgings',\n",
       " 'in',\n",
       " 'baker',\n",
       " 'street',\n",
       " 'buried',\n",
       " 'among',\n",
       " 'his',\n",
       " 'old',\n",
       " 'books',\n",
       " 'and',\n",
       " 'alternating',\n",
       " 'from',\n",
       " 'week',\n",
       " 'to',\n",
       " 'week',\n",
       " 'between',\n",
       " 'cocaine',\n",
       " 'and',\n",
       " 'ambition',\n",
       " 'the',\n",
       " 'drowsiness',\n",
       " 'of',\n",
       " 'the',\n",
       " 'drug',\n",
       " 'and',\n",
       " 'the',\n",
       " 'fierce',\n",
       " 'energy',\n",
       " 'of',\n",
       " 'his',\n",
       " 'own',\n",
       " 'keen',\n",
       " 'nature',\n",
       " 'he',\n",
       " 'was',\n",
       " 'still',\n",
       " 'as',\n",
       " 'ever',\n",
       " 'deeply',\n",
       " 'attracted',\n",
       " 'by',\n",
       " 'the',\n",
       " 'study',\n",
       " 'of',\n",
       " 'crime',\n",
       " 'and',\n",
       " 'occupied',\n",
       " 'his',\n",
       " 'immense',\n",
       " 'faculties',\n",
       " 'and',\n",
       " 'extraordinary',\n",
       " 'powers',\n",
       " 'of',\n",
       " 'observation',\n",
       " 'in',\n",
       " 'following',\n",
       " 'out',\n",
       " 'those',\n",
       " 'clues',\n",
       " 'and',\n",
       " 'clearing',\n",
       " 'up',\n",
       " 'those',\n",
       " 'mysteries',\n",
       " 'which',\n",
       " 'had',\n",
       " 'been',\n",
       " 'abandoned',\n",
       " 'as',\n",
       " 'hopeless',\n",
       " 'by',\n",
       " 'the',\n",
       " 'official',\n",
       " 'police',\n",
       " 'from',\n",
       " 'time',\n",
       " 'to',\n",
       " 'time',\n",
       " 'i',\n",
       " 'heard',\n",
       " 'some',\n",
       " 'vague',\n",
       " 'account',\n",
       " 'of',\n",
       " 'his',\n",
       " 'doings',\n",
       " 'of',\n",
       " 'his',\n",
       " 'summons',\n",
       " 'to',\n",
       " 'odessa',\n",
       " 'in',\n",
       " 'the',\n",
       " 'case',\n",
       " 'of',\n",
       " 'the',\n",
       " 'trepoff',\n",
       " 'murder',\n",
       " 'of',\n",
       " 'his',\n",
       " 'clearing',\n",
       " 'up',\n",
       " 'of',\n",
       " 'the',\n",
       " 'singular',\n",
       " 'tragedy',\n",
       " 'of',\n",
       " 'the',\n",
       " 'atkinson',\n",
       " 'brothers',\n",
       " 'at',\n",
       " 'trincomalee',\n",
       " 'and',\n",
       " 'finally',\n",
       " 'of',\n",
       " 'the',\n",
       " 'mission',\n",
       " 'which',\n",
       " 'he',\n",
       " 'had',\n",
       " 'accomplished',\n",
       " 'so',\n",
       " 'delicately',\n",
       " 'and',\n",
       " 'successfully',\n",
       " 'for',\n",
       " 'the',\n",
       " 'reigning',\n",
       " 'family',\n",
       " 'of',\n",
       " 'holland',\n",
       " 'beyond',\n",
       " 'these',\n",
       " 'signs',\n",
       " 'of',\n",
       " 'his',\n",
       " 'activity',\n",
       " 'however',\n",
       " 'which',\n",
       " 'i',\n",
       " 'merely',\n",
       " 'shared',\n",
       " 'with',\n",
       " 'all',\n",
       " 'the',\n",
       " 'readers',\n",
       " 'of',\n",
       " 'the',\n",
       " 'daily',\n",
       " 'press',\n",
       " 'i',\n",
       " 'knew',\n",
       " 'little',\n",
       " 'of',\n",
       " 'my',\n",
       " 'former',\n",
       " 'friend',\n",
       " 'and',\n",
       " 'companion',\n",
       " 'one',\n",
       " 'night',\n",
       " 'it',\n",
       " 'was',\n",
       " 'on',\n",
       " 'the',\n",
       " 'twentieth',\n",
       " 'of',\n",
       " 'march',\n",
       " 'i',\n",
       " 'was',\n",
       " 'returning',\n",
       " 'from',\n",
       " 'a',\n",
       " 'journey',\n",
       " 'to',\n",
       " 'a',\n",
       " 'patient',\n",
       " 'for',\n",
       " 'i',\n",
       " 'had',\n",
       " 'now',\n",
       " 'returned',\n",
       " 'to',\n",
       " 'civil',\n",
       " 'practice',\n",
       " 'when',\n",
       " 'my',\n",
       " 'way',\n",
       " 'led',\n",
       " 'me',\n",
       " 'through',\n",
       " 'baker',\n",
       " 'street',\n",
       " 'as',\n",
       " 'i',\n",
       " 'passed',\n",
       " 'the',\n",
       " 'well',\n",
       " 'remembered',\n",
       " 'door',\n",
       " 'which',\n",
       " 'must',\n",
       " 'always',\n",
       " 'be',\n",
       " 'associated',\n",
       " 'in',\n",
       " 'my',\n",
       " 'mind',\n",
       " 'with',\n",
       " 'my',\n",
       " 'wooing',\n",
       " 'and',\n",
       " 'with',\n",
       " 'the',\n",
       " 'dark',\n",
       " 'incidents',\n",
       " 'of',\n",
       " 'the',\n",
       " 'study',\n",
       " 'in',\n",
       " 'scarlet',\n",
       " 'i',\n",
       " 'was',\n",
       " 'seized',\n",
       " 'with',\n",
       " 'a',\n",
       " 'keen',\n",
       " 'desire',\n",
       " 'to',\n",
       " 'see',\n",
       " 'holmes',\n",
       " 'again',\n",
       " 'and',\n",
       " 'to',\n",
       " 'know',\n",
       " 'how',\n",
       " 'he',\n",
       " 'was',\n",
       " 'employing',\n",
       " 'his',\n",
       " 'extraordinary',\n",
       " 'powers',\n",
       " 'his',\n",
       " 'rooms',\n",
       " 'were',\n",
       " 'brilliantly',\n",
       " 'lit',\n",
       " 'and',\n",
       " 'even',\n",
       " 'as',\n",
       " 'i',\n",
       " 'looked',\n",
       " 'up',\n",
       " 'i',\n",
       " 'saw',\n",
       " 'his',\n",
       " 'tall',\n",
       " 'spare',\n",
       " 'figure',\n",
       " 'pass',\n",
       " 'twice',\n",
       " 'in',\n",
       " 'a',\n",
       " 'dark',\n",
       " 'silhouette',\n",
       " 'against',\n",
       " 'the',\n",
       " 'blind',\n",
       " 'he',\n",
       " 'was',\n",
       " 'pacing',\n",
       " 'the',\n",
       " 'room',\n",
       " 'swiftly',\n",
       " 'eagerly',\n",
       " 'with',\n",
       " 'his',\n",
       " 'head',\n",
       " 'sunk',\n",
       " 'upon',\n",
       " 'his',\n",
       " 'chest',\n",
       " 'and',\n",
       " 'his',\n",
       " 'hands',\n",
       " 'clasped',\n",
       " 'behind',\n",
       " 'him',\n",
       " 'to',\n",
       " 'me',\n",
       " 'who',\n",
       " 'knew',\n",
       " 'his',\n",
       " 'every',\n",
       " 'mood',\n",
       " 'and',\n",
       " 'habit',\n",
       " 'his',\n",
       " 'attitude',\n",
       " 'and',\n",
       " 'manner',\n",
       " 'told',\n",
       " 'their',\n",
       " 'own',\n",
       " 'story',\n",
       " 'he',\n",
       " 'was',\n",
       " 'at',\n",
       " 'work',\n",
       " 'again',\n",
       " 'he',\n",
       " 'had',\n",
       " 'risen',\n",
       " 'out',\n",
       " 'of',\n",
       " 'his',\n",
       " 'drug',\n",
       " 'created',\n",
       " 'dreams',\n",
       " 'and',\n",
       " 'was',\n",
       " 'hot',\n",
       " 'upon',\n",
       " 'the',\n",
       " 'scent',\n",
       " 'of',\n",
       " 'some',\n",
       " 'new',\n",
       " 'problem',\n",
       " 'i',\n",
       " 'rang',\n",
       " 'the',\n",
       " 'bell',\n",
       " 'and',\n",
       " 'was',\n",
       " 'shown',\n",
       " 'up',\n",
       " 'to',\n",
       " 'the',\n",
       " 'chamber',\n",
       " 'which',\n",
       " 'had',\n",
       " 'formerly',\n",
       " 'been',\n",
       " 'in',\n",
       " 'part',\n",
       " 'my',\n",
       " 'own',\n",
       " 'his',\n",
       " 'manner',\n",
       " 'was',\n",
       " 'not',\n",
       " 'effusive',\n",
       " 'it',\n",
       " 'seldom',\n",
       " 'was',\n",
       " 'but',\n",
       " 'he',\n",
       " 'was',\n",
       " 'glad',\n",
       " 'i',\n",
       " 'think',\n",
       " 'to',\n",
       " 'see',\n",
       " 'me',\n",
       " 'with',\n",
       " 'hardly',\n",
       " 'a',\n",
       " 'word',\n",
       " 'spoken',\n",
       " 'but',\n",
       " 'with',\n",
       " 'a',\n",
       " 'kindly',\n",
       " 'eye',\n",
       " 'he',\n",
       " 'waved',\n",
       " 'me',\n",
       " 'to',\n",
       " 'an',\n",
       " 'armchair',\n",
       " 'threw',\n",
       " 'across',\n",
       " 'his',\n",
       " 'case',\n",
       " 'of',\n",
       " 'cigars',\n",
       " 'and',\n",
       " 'indicated',\n",
       " 'a',\n",
       " 'spirit',\n",
       " 'case',\n",
       " 'and',\n",
       " 'a',\n",
       " 'gasogene',\n",
       " 'in',\n",
       " 'the',\n",
       " 'corner',\n",
       " 'then',\n",
       " 'he',\n",
       " 'stood',\n",
       " 'before',\n",
       " 'the',\n",
       " 'fire',\n",
       " 'and',\n",
       " 'looked',\n",
       " 'me',\n",
       " 'over',\n",
       " 'in',\n",
       " 'his',\n",
       " 'singular',\n",
       " 'introspective',\n",
       " 'fashion',\n",
       " 'wedlock',\n",
       " 'suits',\n",
       " 'you',\n",
       " 'he',\n",
       " 'remarked',\n",
       " 'i',\n",
       " 'think',\n",
       " 'watson',\n",
       " 'that',\n",
       " 'you',\n",
       " 'have',\n",
       " 'put',\n",
       " 'on',\n",
       " 'seven',\n",
       " 'and',\n",
       " 'a',\n",
       " 'half',\n",
       " 'pounds',\n",
       " 'since',\n",
       " 'i',\n",
       " 'saw',\n",
       " 'you',\n",
       " 'seven',\n",
       " 'i',\n",
       " 'answered',\n",
       " 'indeed',\n",
       " 'i',\n",
       " 'should',\n",
       " 'have',\n",
       " 'thought',\n",
       " 'a',\n",
       " 'little',\n",
       " 'more',\n",
       " 'just',\n",
       " 'a',\n",
       " 'trifle',\n",
       " 'more',\n",
       " 'i',\n",
       " 'fancy',\n",
       " 'watson',\n",
       " 'and',\n",
       " 'in',\n",
       " 'practice',\n",
       " 'again',\n",
       " 'i',\n",
       " 'observe',\n",
       " 'you',\n",
       " 'did',\n",
       " 'not',\n",
       " 'tell',\n",
       " 'me',\n",
       " 'that',\n",
       " 'you',\n",
       " 'intended',\n",
       " 'to',\n",
       " 'go',\n",
       " 'into',\n",
       " 'harness',\n",
       " 'then',\n",
       " 'how',\n",
       " 'do',\n",
       " 'you',\n",
       " 'know',\n",
       " 'i',\n",
       " 'see',\n",
       " 'it',\n",
       " 'i',\n",
       " 'deduce',\n",
       " 'it',\n",
       " 'how',\n",
       " 'do',\n",
       " 'i',\n",
       " 'know',\n",
       " 'that',\n",
       " 'you',\n",
       " 'have',\n",
       " 'been',\n",
       " 'getting',\n",
       " 'yourself',\n",
       " 'very',\n",
       " 'wet',\n",
       " 'lately',\n",
       " 'and',\n",
       " 'that',\n",
       " 'you',\n",
       " 'have',\n",
       " 'a',\n",
       " 'most',\n",
       " 'clumsy',\n",
       " 'and',\n",
       " 'careless',\n",
       " 'servant',\n",
       " 'girl',\n",
       " 'my',\n",
       " 'dear',\n",
       " 'holmes',\n",
       " 'said',\n",
       " 'i',\n",
       " 'this',\n",
       " 'is',\n",
       " 'too',\n",
       " 'much',\n",
       " 'you',\n",
       " 'would',\n",
       " 'certainly',\n",
       " 'have',\n",
       " 'been',\n",
       " 'burned',\n",
       " 'had',\n",
       " 'you',\n",
       " 'lived',\n",
       " 'a',\n",
       " 'few',\n",
       " 'centuries',\n",
       " 'ago',\n",
       " 'it',\n",
       " 'is',\n",
       " 'true',\n",
       " 'that',\n",
       " ...]"
      ]
     },
     "execution_count": 10,
     "metadata": {},
     "output_type": "execute_result"
    }
   ],
   "source": [
    "words"
   ]
  },
  {
   "cell_type": "code",
   "execution_count": 11,
   "metadata": {},
   "outputs": [],
   "source": [
    "unique_words = np.unique(words)\n",
    "unique_word_index = dict((word, idx) for idx, word in enumerate(unique_words))"
   ]
  },
  {
   "cell_type": "code",
   "execution_count": 12,
   "metadata": {},
   "outputs": [
    {
     "name": "stdout",
     "output_type": "stream",
     "text": [
      "['project', 'gutenberg', 's', 'the', 'adventures']\n",
      "of\n"
     ]
    }
   ],
   "source": [
    "WORD_LENGTH = 5\n",
    "prev_words = []\n",
    "next_words = []\n",
    "for i in range(len(words) - WORD_LENGTH):\n",
    "    prev_words.append(words[i:i + WORD_LENGTH])\n",
    "    next_words.append(words[i + WORD_LENGTH])\n",
    "print(prev_words[0])\n",
    "print(next_words[0])"
   ]
  },
  {
   "cell_type": "code",
   "execution_count": 13,
   "metadata": {},
   "outputs": [],
   "source": [
    "X = np.zeros((len(prev_words), WORD_LENGTH, len(unique_words)), dtype=bool)\n",
    "Y = np.zeros((len(next_words), len(unique_words)), dtype=bool)"
   ]
  },
  {
   "cell_type": "code",
   "execution_count": 14,
   "metadata": {},
   "outputs": [],
   "source": [
    "for i, each_words in enumerate(prev_words):\n",
    "    for j, each_word in enumerate(each_words):\n",
    "        X[i, j, unique_word_index[each_word]] = 1\n",
    "    Y[i, unique_word_index[next_words[i]]] = 1"
   ]
  },
  {
   "cell_type": "markdown",
   "metadata": {},
   "source": [
    "Training the model"
   ]
  },
  {
   "cell_type": "code",
   "execution_count": 15,
   "metadata": {},
   "outputs": [],
   "source": [
    "model = Sequential()\n",
    "model.add(LSTM(128, input_shape=(WORD_LENGTH, len(unique_words))))\n",
    "model.add(Dense(len(unique_words)))\n",
    "model.add(Activation('softmax'))"
   ]
  },
  {
   "cell_type": "code",
   "execution_count": 16,
   "metadata": {},
   "outputs": [],
   "source": [
    "model.compile(loss='categorical_crossentropy', optimizer='rmsprop', metrics=['accuracy'])"
   ]
  },
  {
   "cell_type": "code",
   "execution_count": 17,
   "metadata": {},
   "outputs": [
    {
     "data": {
      "application/vnd.jupyter.widget-view+json": {
       "model_id": "bddee0d7a74545be8e19eb81ab2a6a1e",
       "version_major": 2,
       "version_minor": 0
      },
      "text/plain": [
       "HBox(children=(FloatProgress(value=0.0, description='Training', layout=Layout(flex='2'), max=20.0, style=Progr…"
      ]
     },
     "metadata": {},
     "output_type": "display_data"
    },
    {
     "name": "stdout",
     "output_type": "stream",
     "text": [
      "Epoch 1/20\n",
      "Epoch 1/20\n"
     ]
    },
    {
     "data": {
      "application/vnd.jupyter.widget-view+json": {
       "model_id": "17ccf377485743b585a17467aa27ec5d",
       "version_major": 2,
       "version_minor": 0
      },
      "text/plain": [
       "HBox(children=(FloatProgress(value=0.0, layout=Layout(flex='2'), max=810.0), HTML(value='')), layout=Layout(di…"
      ]
     },
     "metadata": {},
     "output_type": "display_data"
    },
    {
     "name": "stdout",
     "output_type": "stream",
     "text": [
      "810/810 [==============================] - 262s 270ms/step - loss: 6.7526 - accuracy: 0.0522 - val_loss: 7.4076 - val_accuracy: 0.0550\n",
      "\n",
      "Epoch 2/20\n",
      "Epoch 2/20\n"
     ]
    },
    {
     "data": {
      "application/vnd.jupyter.widget-view+json": {
       "model_id": "176335e9d6614b2fbf8f3ff445437112",
       "version_major": 2,
       "version_minor": 0
      },
      "text/plain": [
       "HBox(children=(FloatProgress(value=0.0, layout=Layout(flex='2'), max=810.0), HTML(value='')), layout=Layout(di…"
      ]
     },
     "metadata": {},
     "output_type": "display_data"
    },
    {
     "name": "stdout",
     "output_type": "stream",
     "text": [
      "810/810 [==============================] - 206s 254ms/step - loss: 6.2480 - accuracy: 0.0587 - val_loss: 7.0161 - val_accuracy: 0.0769\n",
      "\n",
      "Epoch 3/20\n",
      "Epoch 3/20\n"
     ]
    },
    {
     "data": {
      "application/vnd.jupyter.widget-view+json": {
       "model_id": "50c9b3ba8314467eab8abdb9f4efddcf",
       "version_major": 2,
       "version_minor": 0
      },
      "text/plain": [
       "HBox(children=(FloatProgress(value=0.0, layout=Layout(flex='2'), max=810.0), HTML(value='')), layout=Layout(di…"
      ]
     },
     "metadata": {},
     "output_type": "display_data"
    },
    {
     "name": "stdout",
     "output_type": "stream",
     "text": [
      "810/810 [==============================] - 214s 264ms/step - loss: 5.9788 - accuracy: 0.0905 - val_loss: 7.0200 - val_accuracy: 0.0864\n",
      "\n",
      "Epoch 4/20\n",
      "Epoch 4/20\n"
     ]
    },
    {
     "data": {
      "application/vnd.jupyter.widget-view+json": {
       "model_id": "704db52e0485489d8890721d8f2000dd",
       "version_major": 2,
       "version_minor": 0
      },
      "text/plain": [
       "HBox(children=(FloatProgress(value=0.0, layout=Layout(flex='2'), max=810.0), HTML(value='')), layout=Layout(di…"
      ]
     },
     "metadata": {},
     "output_type": "display_data"
    },
    {
     "name": "stdout",
     "output_type": "stream",
     "text": [
      "810/810 [==============================] - 212s 262ms/step - loss: 5.7874 - accuracy: 0.1128 - val_loss: 6.8552 - val_accuracy: 0.0985\n",
      "\n",
      "Epoch 5/20\n",
      "Epoch 5/20\n"
     ]
    },
    {
     "data": {
      "application/vnd.jupyter.widget-view+json": {
       "model_id": "3568e421e44e44d29e770d2ad8c8fa9d",
       "version_major": 2,
       "version_minor": 0
      },
      "text/plain": [
       "HBox(children=(FloatProgress(value=0.0, layout=Layout(flex='2'), max=810.0), HTML(value='')), layout=Layout(di…"
      ]
     },
     "metadata": {},
     "output_type": "display_data"
    },
    {
     "name": "stdout",
     "output_type": "stream",
     "text": [
      "810/810 [==============================] - 213s 263ms/step - loss: 5.6309 - accuracy: 0.1265 - val_loss: 6.7874 - val_accuracy: 0.1003\n",
      "\n",
      "Epoch 6/20\n",
      "Epoch 6/20\n"
     ]
    },
    {
     "data": {
      "application/vnd.jupyter.widget-view+json": {
       "model_id": "9b8e56a79b5a470c94b9c88bb4415066",
       "version_major": 2,
       "version_minor": 0
      },
      "text/plain": [
       "HBox(children=(FloatProgress(value=0.0, layout=Layout(flex='2'), max=810.0), HTML(value='')), layout=Layout(di…"
      ]
     },
     "metadata": {},
     "output_type": "display_data"
    },
    {
     "name": "stdout",
     "output_type": "stream",
     "text": [
      "810/810 [==============================] - 209s 258ms/step - loss: 5.5302 - accuracy: 0.1362 - val_loss: 6.7871 - val_accuracy: 0.1016\n",
      "\n",
      "Epoch 7/20\n",
      "Epoch 7/20\n"
     ]
    },
    {
     "data": {
      "application/vnd.jupyter.widget-view+json": {
       "model_id": "97245313103d473189048647541a76e7",
       "version_major": 2,
       "version_minor": 0
      },
      "text/plain": [
       "HBox(children=(FloatProgress(value=0.0, layout=Layout(flex='2'), max=810.0), HTML(value='')), layout=Layout(di…"
      ]
     },
     "metadata": {},
     "output_type": "display_data"
    },
    {
     "name": "stdout",
     "output_type": "stream",
     "text": [
      "810/810 [==============================] - 209s 258ms/step - loss: 5.4231 - accuracy: 0.1482 - val_loss: 6.9069 - val_accuracy: 0.0948\n",
      "\n",
      "Epoch 8/20\n",
      "Epoch 8/20\n"
     ]
    },
    {
     "data": {
      "application/vnd.jupyter.widget-view+json": {
       "model_id": "0870fc38a2a7477a98dbba6e4f3fd7d2",
       "version_major": 2,
       "version_minor": 0
      },
      "text/plain": [
       "HBox(children=(FloatProgress(value=0.0, layout=Layout(flex='2'), max=810.0), HTML(value='')), layout=Layout(di…"
      ]
     },
     "metadata": {},
     "output_type": "display_data"
    },
    {
     "name": "stdout",
     "output_type": "stream",
     "text": [
      "810/810 [==============================] - 206s 254ms/step - loss: 5.3407 - accuracy: 0.1577 - val_loss: 7.0188 - val_accuracy: 0.0981\n",
      "\n",
      "Epoch 9/20\n",
      "Epoch 9/20\n"
     ]
    },
    {
     "data": {
      "application/vnd.jupyter.widget-view+json": {
       "model_id": "7ea4bd9a3e03432eb1dcedd28cb85524",
       "version_major": 2,
       "version_minor": 0
      },
      "text/plain": [
       "HBox(children=(FloatProgress(value=0.0, layout=Layout(flex='2'), max=810.0), HTML(value='')), layout=Layout(di…"
      ]
     },
     "metadata": {},
     "output_type": "display_data"
    },
    {
     "name": "stdout",
     "output_type": "stream",
     "text": [
      "810/810 [==============================] - 210s 259ms/step - loss: 5.2321 - accuracy: 0.1682 - val_loss: 6.8686 - val_accuracy: 0.0928\n",
      "\n",
      "Epoch 10/20\n",
      "Epoch 10/20\n"
     ]
    },
    {
     "data": {
      "application/vnd.jupyter.widget-view+json": {
       "model_id": "795c99c07db5446d8f91343f6b44b8b0",
       "version_major": 2,
       "version_minor": 0
      },
      "text/plain": [
       "HBox(children=(FloatProgress(value=0.0, layout=Layout(flex='2'), max=810.0), HTML(value='')), layout=Layout(di…"
      ]
     },
     "metadata": {},
     "output_type": "display_data"
    },
    {
     "name": "stdout",
     "output_type": "stream",
     "text": [
      "810/810 [==============================] - 210s 259ms/step - loss: 5.1558 - accuracy: 0.1803 - val_loss: 7.0672 - val_accuracy: 0.0950\n",
      "\n",
      "Epoch 11/20\n",
      "Epoch 11/20\n"
     ]
    },
    {
     "data": {
      "application/vnd.jupyter.widget-view+json": {
       "model_id": "c93471d3d8b245b2b3a1150ffc2180c5",
       "version_major": 2,
       "version_minor": 0
      },
      "text/plain": [
       "HBox(children=(FloatProgress(value=0.0, layout=Layout(flex='2'), max=810.0), HTML(value='')), layout=Layout(di…"
      ]
     },
     "metadata": {},
     "output_type": "display_data"
    },
    {
     "name": "stdout",
     "output_type": "stream",
     "text": [
      "810/810 [==============================] - 180s 222ms/step - loss: 5.0812 - accuracy: 0.1913 - val_loss: 7.1040 - val_accuracy: 0.0818\n",
      "\n",
      "Epoch 12/20\n",
      "Epoch 12/20\n"
     ]
    },
    {
     "data": {
      "application/vnd.jupyter.widget-view+json": {
       "model_id": "787502dde9a24e75ade143b428759d60",
       "version_major": 2,
       "version_minor": 0
      },
      "text/plain": [
       "HBox(children=(FloatProgress(value=0.0, layout=Layout(flex='2'), max=810.0), HTML(value='')), layout=Layout(di…"
      ]
     },
     "metadata": {},
     "output_type": "display_data"
    },
    {
     "name": "stdout",
     "output_type": "stream",
     "text": [
      "810/810 [==============================] - 161s 199ms/step - loss: 5.0105 - accuracy: 0.2049 - val_loss: 7.2099 - val_accuracy: 0.0818\n",
      "\n",
      "Epoch 13/20\n",
      "Epoch 13/20\n"
     ]
    },
    {
     "data": {
      "application/vnd.jupyter.widget-view+json": {
       "model_id": "04c78f9289e9489ea59812557442eaf3",
       "version_major": 2,
       "version_minor": 0
      },
      "text/plain": [
       "HBox(children=(FloatProgress(value=0.0, layout=Layout(flex='2'), max=810.0), HTML(value='')), layout=Layout(di…"
      ]
     },
     "metadata": {},
     "output_type": "display_data"
    },
    {
     "name": "stdout",
     "output_type": "stream",
     "text": [
      "810/810 [==============================] - 163s 201ms/step - loss: 4.9873 - accuracy: 0.2191 - val_loss: 7.5088 - val_accuracy: 0.0772\n",
      "\n",
      "Epoch 14/20\n",
      "Epoch 14/20\n"
     ]
    },
    {
     "data": {
      "application/vnd.jupyter.widget-view+json": {
       "model_id": "5a3751b4ee814544ae157d4655e0d08f",
       "version_major": 2,
       "version_minor": 0
      },
      "text/plain": [
       "HBox(children=(FloatProgress(value=0.0, layout=Layout(flex='2'), max=810.0), HTML(value='')), layout=Layout(di…"
      ]
     },
     "metadata": {},
     "output_type": "display_data"
    },
    {
     "name": "stdout",
     "output_type": "stream",
     "text": [
      "810/810 [==============================] - 160s 197ms/step - loss: 5.0562 - accuracy: 0.2289 - val_loss: 7.7169 - val_accuracy: 0.0851\n",
      "\n",
      "Epoch 15/20\n",
      "Epoch 15/20\n"
     ]
    },
    {
     "data": {
      "application/vnd.jupyter.widget-view+json": {
       "model_id": "e63ceb713ef04ec6b180b5ca195fb072",
       "version_major": 2,
       "version_minor": 0
      },
      "text/plain": [
       "HBox(children=(FloatProgress(value=0.0, layout=Layout(flex='2'), max=810.0), HTML(value='')), layout=Layout(di…"
      ]
     },
     "metadata": {},
     "output_type": "display_data"
    },
    {
     "name": "stdout",
     "output_type": "stream",
     "text": [
      "810/810 [==============================] - 164s 202ms/step - loss: 5.1023 - accuracy: 0.2430 - val_loss: 7.8698 - val_accuracy: 0.0807\n",
      "\n",
      "Epoch 16/20\n",
      "Epoch 16/20\n"
     ]
    },
    {
     "data": {
      "application/vnd.jupyter.widget-view+json": {
       "model_id": "f8cf6611d3b549489a3eb8373aa8f2ae",
       "version_major": 2,
       "version_minor": 0
      },
      "text/plain": [
       "HBox(children=(FloatProgress(value=0.0, layout=Layout(flex='2'), max=810.0), HTML(value='')), layout=Layout(di…"
      ]
     },
     "metadata": {},
     "output_type": "display_data"
    },
    {
     "name": "stdout",
     "output_type": "stream",
     "text": [
      "810/810 [==============================] - 163s 201ms/step - loss: 5.0987 - accuracy: 0.2550 - val_loss: 8.1379 - val_accuracy: 0.0780\n",
      "\n",
      "Epoch 17/20\n",
      "Epoch 17/20\n"
     ]
    },
    {
     "data": {
      "application/vnd.jupyter.widget-view+json": {
       "model_id": "d3eed5da318649fe965a7b25caf31458",
       "version_major": 2,
       "version_minor": 0
      },
      "text/plain": [
       "HBox(children=(FloatProgress(value=0.0, layout=Layout(flex='2'), max=810.0), HTML(value='')), layout=Layout(di…"
      ]
     },
     "metadata": {},
     "output_type": "display_data"
    },
    {
     "name": "stdout",
     "output_type": "stream",
     "text": [
      "810/810 [==============================] - 173s 213ms/step - loss: 5.1348 - accuracy: 0.2629 - val_loss: 8.1277 - val_accuracy: 0.0822\n",
      "\n",
      "Epoch 18/20\n",
      "Epoch 18/20\n"
     ]
    },
    {
     "data": {
      "application/vnd.jupyter.widget-view+json": {
       "model_id": "0648901f46574a1682cdf39f2093eae7",
       "version_major": 2,
       "version_minor": 0
      },
      "text/plain": [
       "HBox(children=(FloatProgress(value=0.0, layout=Layout(flex='2'), max=810.0), HTML(value='')), layout=Layout(di…"
      ]
     },
     "metadata": {},
     "output_type": "display_data"
    },
    {
     "name": "stdout",
     "output_type": "stream",
     "text": [
      "810/810 [==============================] - 153s 189ms/step - loss: 5.1097 - accuracy: 0.2759 - val_loss: 8.2408 - val_accuracy: 0.0826\n",
      "\n",
      "Epoch 19/20\n",
      "Epoch 19/20\n"
     ]
    },
    {
     "data": {
      "application/vnd.jupyter.widget-view+json": {
       "model_id": "6118c22462694077ab9a815e5f201f55",
       "version_major": 2,
       "version_minor": 0
      },
      "text/plain": [
       "HBox(children=(FloatProgress(value=0.0, layout=Layout(flex='2'), max=810.0), HTML(value='')), layout=Layout(di…"
      ]
     },
     "metadata": {},
     "output_type": "display_data"
    },
    {
     "name": "stdout",
     "output_type": "stream",
     "text": [
      "810/810 [==============================] - 156s 192ms/step - loss: 5.1067 - accuracy: 0.2874 - val_loss: 8.3338 - val_accuracy: 0.0813\n",
      "\n",
      "Epoch 20/20\n",
      "Epoch 20/20\n"
     ]
    },
    {
     "data": {
      "application/vnd.jupyter.widget-view+json": {
       "model_id": "a2febd58db0d4d67a587a79466ef60f1",
       "version_major": 2,
       "version_minor": 0
      },
      "text/plain": [
       "HBox(children=(FloatProgress(value=0.0, layout=Layout(flex='2'), max=810.0), HTML(value='')), layout=Layout(di…"
      ]
     },
     "metadata": {},
     "output_type": "display_data"
    },
    {
     "name": "stdout",
     "output_type": "stream",
     "text": [
      "810/810 [==============================] - 150s 185ms/step - loss: 5.0502 - accuracy: 0.3011 - val_loss: 8.2822 - val_accuracy: 0.0791\n",
      "\n",
      "\n"
     ]
    }
   ],
   "source": [
    "tqdm_callback = tfa.callbacks.TQDMProgressBar()\n",
    "\n",
    "history = model.fit(X, Y, validation_split=0.05, batch_size=128, epochs=20, callbacks=[tqdm_callback], shuffle=True).history"
   ]
  },
  {
   "cell_type": "code",
   "execution_count": 22,
   "metadata": {},
   "outputs": [
    {
     "data": {
      "text/plain": [
       "<matplotlib.legend.Legend at 0x16db342fcd0>"
      ]
     },
     "execution_count": 22,
     "metadata": {},
     "output_type": "execute_result"
    },
    {
     "data": {
      "image/png": "[encoded data removed]",
      "text/plain": [
       "<Figure size 432x288 with 1 Axes>"
      ]
     },
     "metadata": {
      "needs_background": "light"
     },
     "output_type": "display_data"
    }
   ],
   "source": [
    "plt.plot(history['accuracy'])\n",
    "plt.title('model accuracy')\n",
    "plt.ylabel('accuracy')\n",
    "plt.xlabel('epoch')\n",
    "plt.legend(['train', 'test'], loc='upper left')"
   ]
  },
  {
   "cell_type": "code",
   "execution_count": 23,
   "metadata": {},
   "outputs": [
    {
     "data": {
      "text/plain": [
       "<matplotlib.legend.Legend at 0x16db471d370>"
      ]
     },
     "execution_count": 23,
     "metadata": {},
     "output_type": "execute_result"
    },
    {
     "data": {
      "image/png": "[encoded data removed]",
      "text/plain": [
       "<Figure size 432x288 with 1 Axes>"
      ]
     },
     "metadata": {
      "needs_background": "light"
     },
     "output_type": "display_data"
    }
   ],
   "source": [
    "plt.plot(history['loss'])\n",
    "plt.title('model loss')\n",
    "plt.ylabel('loss')\n",
    "plt.xlabel('epoch')\n",
    "plt.legend(['train', 'test'], loc='upper left')"
   ]
  },
  {
   "cell_type": "code",
   "execution_count": 24,
   "metadata": {},
   "outputs": [],
   "source": [
    "model.save('keras_next_word_model.h5')\n",
    "pickle.dump(history, open(\"history.p\", \"wb\"))\n",
    "\n",
    "model = load_model('keras_next_word_model.h5')\n",
    "history = pickle.load(open(\"history.p\", \"rb\"))"
   ]
  },
  {
   "cell_type": "code",
   "execution_count": 25,
   "metadata": {},
   "outputs": [],
   "source": [
    "def prepare_input(text):\n",
    "    x = np.zeros((1, WORD_LENGTH, len(unique_words)))\n",
    "    for t, word in enumerate(text.split()):\n",
    "        print(word)\n",
    "        x[0, t, unique_word_index[word]] = 1\n",
    "    return x"
   ]
  },
  {
   "cell_type": "code",
   "execution_count": 26,
   "metadata": {},
   "outputs": [],
   "source": [
    "def sample(preds, top_n=3):\n",
    "    preds = np.asarray(preds).astype('float64')\n",
    "    preds = np.log(preds)\n",
    "    exp_preds = np.exp(preds)\n",
    "    preds = exp_preds / np.sum(exp_preds)\n",
    "    return heapq.nlargest(top_n, range(len(preds)), preds.take)"
   ]
  },
  {
   "cell_type": "code",
   "execution_count": 27,
   "metadata": {},
   "outputs": [],
   "source": [
    "def predict_completions(text, n=3):\n",
    "    if text == \"\":\n",
    "        return(\"0\")\n",
    "    x = prepare_input(text)\n",
    "    preds = model.predict(x, verbose=0)[0]\n",
    "    next_indices = sample(preds, n)\n",
    "    return [unique_words[idx] for idx in next_indices]"
   ]
  },
  {
   "cell_type": "markdown",
   "metadata": {},
   "source": [
    "Prediction"
   ]
  },
  {
   "cell_type": "code",
   "execution_count": 28,
   "metadata": {},
   "outputs": [],
   "source": [
    "quotes = [\n",
    "    \"It is not a lack of love, but a lack of friendship that makes unhappy marriages.\",\n",
    "    \"That which does not kill us makes us stronger.\",\n",
    "    \"I'm not upset that you lied to me, I'm upset that from now on I can't believe you.\",\n",
    "    \"And those who were seen dancing were thought to be insane by those who could not hear the music.\",\n",
    "    \"It is hard enough to remember my opinions, without also remembering my reasons for them!\"\n",
    "]"
   ]
  },
  {
   "cell_type": "code",
   "execution_count": 29,
   "metadata": {},
   "outputs": [
    {
     "name": "stdout",
     "output_type": "stream",
     "text": [
      "****************************************************************************************************************\n",
      "Correct sentence : It is not a lack of love, but a lack of friendship that makes unhappy marriages.\n",
      "Sequence         : it is not a lack\n",
      "it\n",
      "is\n",
      "not\n",
      "a\n",
      "lack\n",
      "Next possible words : ['s', 'man', 'i', 'in', 'of']\n",
      "****************************************************************************************************************\n",
      "Correct sentence : That which does not kill us makes us stronger.\n",
      "Sequence         : that which does not kill\n",
      "that\n",
      "which\n",
      "does\n",
      "not\n",
      "kill\n",
      "Next possible words : ['to', 'the', 'and', 'with', 'in']\n",
      "****************************************************************************************************************\n",
      "Correct sentence : I'm not upset that you lied to me, I'm upset that from now on I can't believe you.\n",
      "Sequence         : i m not upset that\n",
      "i\n",
      "m\n",
      "not\n",
      "upset\n",
      "that\n",
      "Next possible words : ['is', 'the', 'i', 'it', 'he']\n",
      "****************************************************************************************************************\n",
      "Correct sentence : And those who were seen dancing were thought to be insane by those who could not hear the music.\n",
      "Sequence         : and those who were seen\n",
      "and\n",
      "those\n",
      "who\n",
      "were\n",
      "seen\n",
      "Next possible words : ['with', 'in', 'the', 'upon', 'and']\n",
      "****************************************************************************************************************\n",
      "Correct sentence : It is hard enough to remember my opinions, without also remembering my reasons for them!\n",
      "Sequence         : it is hard enough to\n",
      "it\n",
      "is\n",
      "hard\n",
      "enough\n",
      "to\n",
      "Next possible words : ['be', 'see', 'have', 'do', 'think']\n"
     ]
    }
   ],
   "source": [
    "for q in quotes:\n",
    "    print(\"****************************************************************************************************************\")\n",
    "    print(f'Correct sentence : {q}')\n",
    "    seq = \" \".join(tokenizer.tokenize(q.lower())[0:5])\n",
    "    print(f'Sequence         : {seq}')\n",
    "    print(f'Next possible words : {predict_completions(seq,5)}')"
   ]
  }
 ],
 "metadata": {
  "kernelspec": {
   "display_name": "Python 3",
   "language": "python",
   "name": "python3"
  },
  "language_info": {
   "codemirror_mode": {
    "name": "ipython",
    "version": 3
   },
   "file_extension": ".py",
   "mimetype": "text/x-python",
   "name": "python",
   "nbconvert_exporter": "python",
   "pygments_lexer": "ipython3",
   "version": "3.8.3"
  }
 },
 "nbformat": 4,
 "nbformat_minor": 4
}
